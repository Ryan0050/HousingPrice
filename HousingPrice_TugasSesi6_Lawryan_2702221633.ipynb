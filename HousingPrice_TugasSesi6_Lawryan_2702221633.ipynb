{
 "cells": [
  {
   "cell_type": "code",
   "execution_count": 1,
   "metadata": {},
   "outputs": [],
   "source": [
    "import pandas as pd\n",
    "import numpy as np\n",
    "from sklearn.model_selection import train_test_split\n",
    "from sklearn.linear_model import LinearRegression\n",
    "from sklearn.preprocessing import StandardScaler\n",
    "from sklearn.metrics import mean_absolute_error, mean_squared_error, r2_score\n",
    "from scipy import stats\n",
    "\n",
    "df = pd.read_csv(\"data/train.csv\")"
   ]
  },
  {
   "cell_type": "code",
   "execution_count": 2,
   "metadata": {},
   "outputs": [
    {
     "name": "stdout",
     "output_type": "stream",
     "text": [
      "PoolQC          1453\n",
      "MiscFeature     1406\n",
      "Alley           1369\n",
      "Fence           1179\n",
      "FireplaceQu      690\n",
      "LotFrontage      259\n",
      "GarageType        81\n",
      "GarageYrBlt       81\n",
      "GarageFinish      81\n",
      "GarageQual        81\n",
      "GarageCond        81\n",
      "BsmtExposure      38\n",
      "BsmtFinType2      38\n",
      "BsmtFinType1      37\n",
      "BsmtCond          37\n",
      "BsmtQual          37\n",
      "MasVnrArea         8\n",
      "MasVnrType         8\n",
      "Electrical         1\n",
      "dtype: int64\n",
      "          Column  Missing Values\n",
      "0         PoolQC            1453\n",
      "1    MiscFeature            1406\n",
      "2          Alley            1369\n",
      "3          Fence            1179\n",
      "4    FireplaceQu             690\n",
      "5    LotFrontage             259\n",
      "6     GarageType              81\n",
      "7    GarageYrBlt              81\n",
      "8   GarageFinish              81\n",
      "9     GarageQual              81\n",
      "10    GarageCond              81\n",
      "11  BsmtExposure              38\n",
      "12  BsmtFinType2              38\n",
      "13  BsmtFinType1              37\n",
      "14      BsmtCond              37\n",
      "15      BsmtQual              37\n",
      "16    MasVnrArea               8\n",
      "17    MasVnrType               8\n",
      "18    Electrical               1\n"
     ]
    }
   ],
   "source": [
    "missing_values = df.isnull().sum()  # Mengitung jumlah NaN di setiap kolom\n",
    "missing_values = missing_values[missing_values > 0]  # Hanya tampilkan kolom yang memiliki missing values\n",
    "missing_values = missing_values.sort_values(ascending=False)  # Urutkan dari yang paling banyak missing values\n",
    "\n",
    "print(missing_values)\n",
    "\n",
    "missing_df = pd.DataFrame({'Column': missing_values.index, 'Missing Values': missing_values.values})\n",
    "print(missing_df)"
   ]
  },
  {
   "cell_type": "code",
   "execution_count": 3,
   "metadata": {},
   "outputs": [],
   "source": [
    "df_copy = df.copy()\n",
    "drop_cols = [\"PoolQC\", \"MiscFeature\", \"Alley\", \"Fence\", \"FireplaceQu\", \"LotFrontage\"] #kolum yang memiliki missing value paling banyak\n",
    "df_copy = df_copy.drop(columns=drop_cols)"
   ]
  },
  {
   "cell_type": "code",
   "execution_count": 4,
   "metadata": {},
   "outputs": [
    {
     "name": "stdout",
     "output_type": "stream",
     "text": [
      "Fitur yang dipilih berdasarkan korelasi: ['SalePrice', 'OverallQual', 'GrLivArea', 'GarageCars', 'GarageArea', 'TotalBsmtSF', '1stFlrSF', 'FullBath', 'TotRmsAbvGrd', 'YearBuilt', 'YearRemodAdd']\n"
     ]
    }
   ],
   "source": [
    "# Disini saya menggunakan matriks korelasi untuk memilih fitur yang memiliki korelasi tinggi dengan SalePrice\n",
    "correlation_matrix = df.corr()[\"SalePrice\"].abs().sort_values(ascending=False)\n",
    "selected_features = correlation_matrix[correlation_matrix > 0.5].index.tolist()\n",
    "\n",
    "# Hasil dari feature yang kita pilih\n",
    "print(\"Fitur yang dipilih berdasarkan korelasi:\", selected_features)"
   ]
  },
  {
   "cell_type": "code",
   "execution_count": 5,
   "metadata": {},
   "outputs": [],
   "source": [
    "# Mendefinisikan fitur (X) dan target (y)\n",
    "X = df_copy[selected_features].drop(columns=[\"SalePrice\"])  # Fitur yang dipilih\n",
    "y = df_copy[\"SalePrice\"]  # Target (harga rumah)"
   ]
  },
  {
   "cell_type": "code",
   "execution_count": 6,
   "metadata": {},
   "outputs": [],
   "source": [
    "# Disini saya menggunakan metode Z-score dengan threshold 3 untuk menghapus outliers yang ekstrem\n",
    "z_scores = np.abs(stats.zscore(X))  \n",
    "outliers = (z_scores > 3).any(axis=1)  # Identifikasi outliers\n",
    "\n",
    "# Filter dataset untuk menghapus outliers\n",
    "X_filtered = X[~outliers]\n",
    "y_filtered = y[~outliers]"
   ]
  },
  {
   "cell_type": "code",
   "execution_count": 7,
   "metadata": {},
   "outputs": [],
   "source": [
    "# Disini saya menggunakan log-transformasi untuk membuat distribusi harga rumah lebih normal\n",
    "y_log = np.log(y_filtered)  "
   ]
  },
  {
   "cell_type": "code",
   "execution_count": 8,
   "metadata": {},
   "outputs": [],
   "source": [
    "# Disini saya menggunakan StandardScaler agar semua fitur memiliki skala yang sama, sehingga membantu optimasi model\n",
    "scaler = StandardScaler()\n",
    "X_scaled = scaler.fit_transform(X_filtered)"
   ]
  },
  {
   "cell_type": "code",
   "execution_count": 9,
   "metadata": {},
   "outputs": [
    {
     "name": "stdout",
     "output_type": "stream",
     "text": [
      "Mean Absolute Error (MAE): 16709.86 (9.24%)\n",
      "Root Mean Squared Error (RMSE): 22408.41 (%12.39%)\n",
      "R-squared (R²): 0.8502 (85.02%)\n"
     ]
    }
   ],
   "source": [
    "# Split data into training and testing sets (70% training, 30% testing)\n",
    "X_train, X_test, y_train, y_test = train_test_split(X_scaled, y_log, test_size=0.3, random_state=42)\n",
    "\n",
    "# Train the Linear Regression model\n",
    "model = LinearRegression()\n",
    "model.fit(X_train, y_train)\n",
    "\n",
    "\n",
    "y_pred_log = model.predict(X_test)\n",
    "\n",
    "\n",
    "# Evaluasi model menggunakan MAE, RMSE, dan R²\n",
    "mae = mean_absolute_error(np.exp(y_test), np.exp(y_pred_log))  \n",
    "rmse = np.sqrt(mean_squared_error(np.exp(y_test), np.exp(y_pred_log)))  \n",
    "r2 = r2_score(y_test, y_pred_log) \n",
    "\n",
    "y_mean = df['SalePrice'].mean()\n",
    "\n",
    "mae_percentage = (mae  /y_mean)*100\n",
    "rmse_percentage = (rmse /y_mean)*100\n",
    "r2_percentage = r2*100\n",
    "\n",
    "# Print the evaluation metrics\n",
    "print(f\"Mean Absolute Error (MAE): {mae:.2f} ({mae_percentage:.2f}%)\")\n",
    "print(f\"Root Mean Squared Error (RMSE): {rmse:.2f} (%{rmse_percentage:.2f}%)\")\n",
    "print(f\"R-squared (R²): {r2:.4f} ({r2_percentage:.2f}%)\")"
   ]
  }
 ],
 "metadata": {
  "kernelspec": {
   "display_name": "base",
   "language": "python",
   "name": "python3"
  },
  "language_info": {
   "codemirror_mode": {
    "name": "ipython",
    "version": 3
   },
   "file_extension": ".py",
   "mimetype": "text/x-python",
   "name": "python",
   "nbconvert_exporter": "python",
   "pygments_lexer": "ipython3",
   "version": "3.9.13"
  }
 },
 "nbformat": 4,
 "nbformat_minor": 2
}
